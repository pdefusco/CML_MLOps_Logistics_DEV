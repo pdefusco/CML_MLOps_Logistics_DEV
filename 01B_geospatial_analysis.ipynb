{
 "cells": [
  {
   "cell_type": "code",
   "execution_count": 1,
   "id": "8b633a7f-947a-460f-948a-e0a377fa3149",
   "metadata": {
    "tags": []
   },
   "outputs": [],
   "source": [
    "#****************************************************************************\n",
    "# (C) Cloudera, Inc. 2020-2024\n",
    "#  All rights reserved.\n",
    "#\n",
    "#  Applicable Open Source License: GNU Affero General Public License v3.0\n",
    "#\n",
    "#  NOTE: Cloudera open source products are modular software products\n",
    "#  made up of hundreds of individual components, each of which was\n",
    "#  individually copyrighted.  Each Cloudera open source product is a\n",
    "#  collective work under U.S. Copyright Law. Your license to use the\n",
    "#  collective work is as provided in your written agreement with\n",
    "#  Cloudera.  Used apart from the collective work, this file is\n",
    "#  licensed for your use pursuant to the open source license\n",
    "#  identified above.\n",
    "#\n",
    "#  This code is provided to you pursuant a written agreement with\n",
    "#  (i) Cloudera, Inc. or (ii) a third-party authorized to distribute\n",
    "#  this code. If you do not have a written agreement with Cloudera nor\n",
    "#  with an authorized and properly licensed third party, you do not\n",
    "#  have any rights to access nor to use this code.\n",
    "#\n",
    "#  Absent a written agreement with Cloudera, Inc. (“Cloudera”) to the\n",
    "#  contrary, A) CLOUDERA PROVIDES THIS CODE TO YOU WITHOUT WARRANTIES OF ANY\n",
    "#  KIND; (B) CLOUDERA DISCLAIMS ANY AND ALL EXPRESS AND IMPLIED\n",
    "#  WARRANTIES WITH RESPECT TO THIS CODE, INCLUDING BUT NOT LIMITED TO\n",
    "#  IMPLIED WARRANTIES OF TITLE, NON-INFRINGEMENT, MERCHANTABILITY AND\n",
    "#  FITNESS FOR A PARTICULAR PURPOSE; (C) CLOUDERA IS NOT LIABLE TO YOU,\n",
    "#  AND WILL NOT DEFEND, INDEMNIFY, NOR HOLD YOU HARMLESS FOR ANY CLAIMS\n",
    "#  ARISING FROM OR RELATED TO THE CODE; AND (D)WITH RESPECT TO YOUR EXERCISE\n",
    "#  OF ANY RIGHTS GRANTED TO YOU FOR THE CODE, CLOUDERA IS NOT LIABLE FOR ANY\n",
    "#  DIRECT, INDIRECT, INCIDENTAL, SPECIAL, EXEMPLARY, PUNITIVE OR\n",
    "#  CONSEQUENTIAL DAMAGES INCLUDING, BUT NOT LIMITED TO, DAMAGES\n",
    "#  RELATED TO LOST REVENUE, LOST PROFITS, LOSS OF INCOME, LOSS OF\n",
    "#  BUSINESS ADVANTAGE OR UNAVAILABILITY, OR LOSS OR CORRUPTION OF\n",
    "#  DATA.\n",
    "#\n",
    "# #  Author(s): Paul de Fusco\n",
    "#***************************************************************************/"
   ]
  },
  {
   "cell_type": "code",
   "execution_count": 2,
   "id": "836ce1c9-ab2e-4497-a5a0-006e710b7c05",
   "metadata": {},
   "outputs": [
    {
     "name": "stdout",
     "output_type": "stream",
     "text": [
      "Skipping SedonaKepler import, verify if keplergl is installed\n",
      "Skipping SedonaPyDeck import, verify if pydeck is installed\n"
     ]
    }
   ],
   "source": [
    "from pyspark import SparkContext\n",
    "from pyspark.sql import SparkSession\n",
    "from sedona.register import SedonaRegistrator\n",
    "import os, warnings, sys, logging\n",
    "import pandas as pd\n",
    "import numpy as np\n",
    "from datetime import date\n",
    "import cml.data_v1 as cmldata\n",
    "import seaborn as sns\n",
    "import stumpy\n",
    "from pyspark.sql import SparkSession\n",
    "from pyspark import StorageLevel\n",
    "import pandas as pd\n",
    "from sedona.spark import *\n",
    "from sedona.core.geom.envelope import Envelope"
   ]
  },
  {
   "cell_type": "code",
   "execution_count": 3,
   "id": "fa8f3225-ae0f-41ec-b173-ac2bde78c873",
   "metadata": {},
   "outputs": [],
   "source": [
    "USERNAME = os.environ[\"PROJECT_OWNER\"]\n",
    "DBNAME = \"LOGISTICS_MLOPS_DEMO\"\n",
    "STORAGE = \"s3a://goes-se-sandbox01\"\n",
    "CONNECTION_NAME = \"se-aw-mdl\"\n",
    "DATE = date.today()"
   ]
  },
  {
   "cell_type": "code",
   "execution_count": 6,
   "id": "8235eb92-6538-44ad-9fb1-95177b391c1b",
   "metadata": {
    "tags": []
   },
   "outputs": [],
   "source": [
    "config = SedonaContext.builder() .\\\n",
    "    config('spark.jars.packages',\n",
    "           'org.apache.sedona:sedona-spark-3.0_2.12:1.5.1,'\n",
    "           'org.datasyslab:geotools-wrapper:1.5.1-28.2,'\n",
    "           'uk.co.gresearch.spark:spark-extension_2.12:2.11.0-3.4'). \\\n",
    "    config('spark.jars.repositories', 'https://artifacts.unidata.ucar.edu/repository/unidata-all'). \\\n",
    "    getOrCreate()"
   ]
  },
  {
   "cell_type": "code",
   "execution_count": 7,
   "id": "8046970a-feaa-4a4c-9f57-d9ff0488cf38",
   "metadata": {
    "tags": []
   },
   "outputs": [
    {
     "name": "stderr",
     "output_type": "stream",
     "text": [
      "24/03/15 05:13:06 WARN UDTRegistration: Cannot register UDT for org.locationtech.jts.geom.Geometry, which is already registered.\n",
      "24/03/15 05:13:06 WARN UDTRegistration: Cannot register UDT for org.locationtech.jts.index.SpatialIndex, which is already registered.\n",
      "24/03/15 05:13:06 WARN UDTRegistration: Cannot register UDT for org.geotools.coverage.grid.GridCoverage2D, which is already registered.\n",
      "24/03/15 05:13:06 WARN SimpleFunctionRegistry: The function st_union_aggr replaced a previously registered function.\n",
      "24/03/15 05:13:06 WARN SimpleFunctionRegistry: The function st_envelope_aggr replaced a previously registered function.\n",
      "24/03/15 05:13:06 WARN SimpleFunctionRegistry: The function st_intersection_aggr replaced a previously registered function.\n",
      "24/03/15 05:13:06 WARN SimpleFunctionRegistry: The function rs_union_aggr replaced a previously registered function.\n"
     ]
    }
   ],
   "source": [
    "sedona = SedonaContext.create(config)\n",
    "sc = sedona.sparkContext"
   ]
  },
  {
   "cell_type": "markdown",
   "id": "f9de2b10-783a-4ef3-89d0-1cee376599af",
   "metadata": {},
   "source": [
    "### Import State Boundaries"
   ]
  },
  {
   "cell_type": "code",
   "execution_count": 98,
   "id": "b5044f1d-8df5-4660-b636-9b485fbbe6c7",
   "metadata": {
    "tags": []
   },
   "outputs": [],
   "source": [
    "states_wkt = sedona.read.option(\"delimiter\", \"\\t\")\\\n",
    "                    .option(\"header\", \"false\")\\\n",
    "                    .csv(\"data/boundary-each-state.tsv\")\\\n",
    "                    .toDF(\"s_name\",\"s_bound\")"
   ]
  },
  {
   "cell_type": "code",
   "execution_count": 99,
   "id": "c444afa1-5e51-4d60-b2bb-695d3c865444",
   "metadata": {
    "tags": []
   },
   "outputs": [
    {
     "name": "stdout",
     "output_type": "stream",
     "text": [
      "+-------------+--------------------+\n",
      "|       s_name|             s_bound|\n",
      "+-------------+--------------------+\n",
      "|       Alaska|POLYGON ((-141.02...|\n",
      "|      Alabama|POLYGON ((-88.195...|\n",
      "|     Arkansas|POLYGON ((-94.041...|\n",
      "|      Arizona|POLYGON ((-112.59...|\n",
      "|   California|POLYGON ((-124.40...|\n",
      "|     Colorado|POLYGON ((-109.04...|\n",
      "|  Connecticut|POLYGON ((-73.487...|\n",
      "|     Delaware|POLYGON ((-75.791...|\n",
      "|      Florida|POLYGON ((-87.605...|\n",
      "|      Georgia|POLYGON ((-85.608...|\n",
      "|       Hawaii|POLYGON ((-154.62...|\n",
      "|         Iowa|POLYGON ((-95.762...|\n",
      "|        Idaho|POLYGON ((-117.03...|\n",
      "|     Illinois|POLYGON ((-90.629...|\n",
      "|      Indiana|POLYGON ((-87.525...|\n",
      "|       Kansas|POLYGON ((-102.05...|\n",
      "|     Kentucky|POLYGON ((-89.537...|\n",
      "|    Louisiana|POLYGON ((-94.043...|\n",
      "|Massachusetts|POLYGON ((-72.778...|\n",
      "|     Maryland|POLYGON ((-79.477...|\n",
      "+-------------+--------------------+\n",
      "only showing top 20 rows\n",
      "\n",
      "root\n",
      " |-- s_name: string (nullable = true)\n",
      " |-- s_bound: geometry (nullable = true)\n",
      "\n"
     ]
    }
   ],
   "source": [
    "states = states_wkt.selectExpr(\"s_name\", \"ST_GeomFromWKT(s_bound) as s_bound\")\n",
    "states.show()\n",
    "states.printSchema()\n",
    "states.createOrReplaceTempView(\"states\")"
   ]
  },
  {
   "cell_type": "markdown",
   "id": "6e33d11e-cff6-4ce0-9f8a-3af6edc50c98",
   "metadata": {},
   "source": [
    "### Import IOT Fleet Data"
   ]
  },
  {
   "cell_type": "code",
   "execution_count": 103,
   "id": "a256a6fd-99bb-432a-8a1a-4aaec49d5a29",
   "metadata": {
    "tags": []
   },
   "outputs": [],
   "source": [
    "iotDf = sedona.read.option(\"delimiter\", \",\")\\\n",
    "            .option(\"header\", \"true\")\\\n",
    "            .csv(\"data/iot_fleet_data.csv\")\n",
    "\n",
    "iotDf.createOrReplaceTempView(\"IOT_FLEET_DATA\")"
   ]
  },
  {
   "cell_type": "code",
   "execution_count": 104,
   "id": "3d1f3607-0b03-48b2-ba88-49e86bcd8eed",
   "metadata": {
    "tags": []
   },
   "outputs": [
    {
     "name": "stdout",
     "output_type": "stream",
     "text": [
      "+--------------------+---------------+------------------+\n",
      "|          iot_coords|      device_id|        event_type|\n",
      "+--------------------+---------------+------------------+\n",
      "|POINT (42.184032 ...|0x1000000000005|system malfunction|\n",
      "|POINT (42.094486 ...|0x100000000001d|    tank below 10%|\n",
      "|POINT (41.742584 ...|0x1000000000008|    tank below 10%|\n",
      "|POINT (42.07303 -...|0x100000000001b|    tank below 10%|\n",
      "|POINT (42.397186 ...|0x1000000000014|    tank below 10%|\n",
      "|POINT (41.98392 -...|0x100000000001c|      device error|\n",
      "|POINT (41.606995 ...|0x1000000000005|system malfunction|\n",
      "|POINT (42.44871 -...|0x100000000000b|      device error|\n",
      "|POINT (42.146732 ...|0x1000000000024|    tank below 10%|\n",
      "|POINT (41.681465 ...|0x1000000000009|    tank below 10%|\n",
      "|POINT (42.48936 -...|0x1000000000025|      device error|\n",
      "|POINT (41.808537 ...|0x1000000000001|    tank below 10%|\n",
      "|POINT (41.654545 ...|0x1000000000020|system malfunction|\n",
      "|POINT (41.785316 ...|0x1000000000017|     tank below 5%|\n",
      "|POINT (41.707714 ...|0x1000000000022|    tank below 10%|\n",
      "|POINT (42.177364 ...|0x1000000000004|    tank below 10%|\n",
      "|POINT (41.897682 ...|0x100000000001e|      device error|\n",
      "|POINT (41.63091 -...|0x1000000000012|    tank below 10%|\n",
      "|POINT (41.87131 -...|0x100000000001e|     tank below 5%|\n",
      "|POINT (41.934494 ...|0x1000000000004|      device error|\n",
      "+--------------------+---------------+------------------+\n",
      "only showing top 20 rows\n",
      "\n"
     ]
    }
   ],
   "source": [
    "iotGeoDf = sedona.sql(\"\"\"SELECT ST_Point(CAST(IOT_FLEET_DATA.latitude AS Decimal(24,20)),\n",
    "                CAST(IOT_FLEET_DATA.longitude AS Decimal(24,20))) AS iot_coords,\n",
    "                IOT_FLEET_DATA.device_id,\n",
    "                IOT_FLEET_DATA.event_type\n",
    "                FROM IOT_FLEET_DATA\n",
    "                \"\"\")\n",
    "\n",
    "iotGeoDf.show()\n",
    "\n",
    "iotGeoDf.createOrReplaceTempView(\"IOT_GEO_DATA\")"
   ]
  },
  {
   "cell_type": "markdown",
   "id": "22fc658c-3361-4f0c-aa24-8a8bce91a8c1",
   "metadata": {},
   "source": [
    "### What US State are the IOT Fleet Devices located in?"
   ]
  },
  {
   "cell_type": "code",
   "execution_count": 105,
   "id": "cccbbc17-6875-436d-97c3-b182dc12d808",
   "metadata": {
    "tags": []
   },
   "outputs": [
    {
     "name": "stdout",
     "output_type": "stream",
     "text": [
      "+------+--------------------+--------------------+---------------+------------------+\n",
      "|s_name|             s_bound|          iot_coords|      device_id|        event_type|\n",
      "+------+--------------------+--------------------+---------------+------------------+\n",
      "|  Iowa|POLYGON ((-95.762...|POINT (41.596134 ...|0x100000000001c|     tank below 5%|\n",
      "|  Iowa|POLYGON ((-95.762...|POINT (41.59631 -...|0x100000000001e|system malfunction|\n",
      "|  Iowa|POLYGON ((-95.762...|POINT (41.5991 -9...|0x100000000000f|system malfunction|\n",
      "|  Iowa|POLYGON ((-95.762...|POINT (41.604393 ...|0x1000000000007|     tank below 5%|\n",
      "|  Iowa|POLYGON ((-95.762...|POINT (41.619007 ...|0x100000000001d|    tank below 10%|\n",
      "|  Iowa|POLYGON ((-95.762...|POINT (41.620396 ...|0x1000000000015|     tank below 5%|\n",
      "|  Iowa|POLYGON ((-95.762...|POINT (41.62198 -...|0x1000000000015|      device error|\n",
      "|  Iowa|POLYGON ((-95.762...|POINT (41.629917 ...|0x1000000000027|      device error|\n",
      "|  Iowa|POLYGON ((-95.762...|POINT (41.645958 ...|0x100000000001c|     tank below 5%|\n",
      "|  Iowa|POLYGON ((-95.762...|POINT (41.654545 ...|0x1000000000020|system malfunction|\n",
      "|  Iowa|POLYGON ((-95.762...|POINT (41.61538 -...|0x1000000000013|     tank below 5%|\n",
      "|  Iowa|POLYGON ((-95.762...|POINT (41.62143 -...|0x1000000000017|      device error|\n",
      "|  Iowa|POLYGON ((-95.762...|POINT (41.62307 -...|0x1000000000013|      device error|\n",
      "|  Iowa|POLYGON ((-95.762...|POINT (41.630405 ...|0x1000000000020|      device error|\n",
      "|  Iowa|POLYGON ((-95.762...|POINT (41.632206 ...|0x1000000000012|     tank below 5%|\n",
      "|  Iowa|POLYGON ((-95.762...|POINT (41.6371 -9...|0x1000000000019|      device error|\n",
      "|  Iowa|POLYGON ((-95.762...|POINT (41.639034 ...|0x1000000000005|      device error|\n",
      "|  Iowa|POLYGON ((-95.762...|POINT (41.639507 ...|0x1000000000019|system malfunction|\n",
      "|  Iowa|POLYGON ((-95.762...|POINT (41.643 -92...|0x1000000000024|    tank below 10%|\n",
      "|  Iowa|POLYGON ((-95.762...|POINT (41.645336 ...|0x1000000000027|system malfunction|\n",
      "+------+--------------------+--------------------+---------------+------------------+\n",
      "only showing top 20 rows\n",
      "\n"
     ]
    }
   ],
   "source": [
    "containsDf = sedona.sql(\"\"\"SELECT * \n",
    "                            FROM states s, IOT_GEO_DATA iot \n",
    "                            WHERE ST_Covers(s.s_bound, ST_FlipCoordinates(iot.iot_coords))\"\"\")\n",
    "containsDf.show()"
   ]
  },
  {
   "cell_type": "code",
   "execution_count": null,
   "id": "c35aafe9-2a3d-43b8-8078-9f79dadc0a74",
   "metadata": {},
   "outputs": [],
   "source": []
  }
 ],
 "metadata": {
  "kernelspec": {
   "display_name": "Python 3 (ipykernel)",
   "language": "python",
   "name": "python3"
  },
  "language_info": {
   "codemirror_mode": {
    "name": "ipython",
    "version": 3
   },
   "file_extension": ".py",
   "mimetype": "text/x-python",
   "name": "python",
   "nbconvert_exporter": "python",
   "pygments_lexer": "ipython3",
   "version": "3.9.18"
  }
 },
 "nbformat": 4,
 "nbformat_minor": 5
}
