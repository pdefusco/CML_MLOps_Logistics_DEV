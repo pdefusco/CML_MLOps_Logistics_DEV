{
 "cells": [
  {
   "cell_type": "code",
   "execution_count": 8,
   "id": "49fa0c24-b5a5-4a0c-bf01-0361f3ec2f5e",
   "metadata": {
    "tags": []
   },
   "outputs": [],
   "source": [
    "#****************************************************************************\n",
    "# (C) Cloudera, Inc. 2020-2024\n",
    "#  All rights reserved.\n",
    "#\n",
    "#  Applicable Open Source License: GNU Affero General Public License v3.0\n",
    "#\n",
    "#  NOTE: Cloudera open source products are modular software products\n",
    "#  made up of hundreds of individual components, each of which was\n",
    "#  individually copyrighted.  Each Cloudera open source product is a\n",
    "#  collective work under U.S. Copyright Law. Your license to use the\n",
    "#  collective work is as provided in your written agreement with\n",
    "#  Cloudera.  Used apart from the collective work, this file is\n",
    "#  licensed for your use pursuant to the open source license\n",
    "#  identified above.\n",
    "#\n",
    "#  This code is provided to you pursuant a written agreement with\n",
    "#  (i) Cloudera, Inc. or (ii) a third-party authorized to distribute\n",
    "#  this code. If you do not have a written agreement with Cloudera nor\n",
    "#  with an authorized and properly licensed third party, you do not\n",
    "#  have any rights to access nor to use this code.\n",
    "#\n",
    "#  Absent a written agreement with Cloudera, Inc. (“Cloudera”) to the\n",
    "#  contrary, A) CLOUDERA PROVIDES THIS CODE TO YOU WITHOUT WARRANTIES OF ANY\n",
    "#  KIND; (B) CLOUDERA DISCLAIMS ANY AND ALL EXPRESS AND IMPLIED\n",
    "#  WARRANTIES WITH RESPECT TO THIS CODE, INCLUDING BUT NOT LIMITED TO\n",
    "#  IMPLIED WARRANTIES OF TITLE, NON-INFRINGEMENT, MERCHANTABILITY AND\n",
    "#  FITNESS FOR A PARTICULAR PURPOSE; (C) CLOUDERA IS NOT LIABLE TO YOU,\n",
    "#  AND WILL NOT DEFEND, INDEMNIFY, NOR HOLD YOU HARMLESS FOR ANY CLAIMS\n",
    "#  ARISING FROM OR RELATED TO THE CODE; AND (D)WITH RESPECT TO YOUR EXERCISE\n",
    "#  OF ANY RIGHTS GRANTED TO YOU FOR THE CODE, CLOUDERA IS NOT LIABLE FOR ANY\n",
    "#  DIRECT, INDIRECT, INCIDENTAL, SPECIAL, EXEMPLARY, PUNITIVE OR\n",
    "#  CONSEQUENTIAL DAMAGES INCLUDING, BUT NOT LIMITED TO, DAMAGES\n",
    "#  RELATED TO LOST REVENUE, LOST PROFITS, LOSS OF INCOME, LOSS OF\n",
    "#  BUSINESS ADVANTAGE OR UNAVAILABILITY, OR LOSS OR CORRUPTION OF\n",
    "#  DATA.\n",
    "#\n",
    "# #  Author(s): Paul de Fusco\n",
    "#***************************************************************************/"
   ]
  },
  {
   "cell_type": "code",
   "execution_count": 9,
   "id": "beed7921-7fea-4c2d-9d75-ca8863d8f61c",
   "metadata": {
    "tags": []
   },
   "outputs": [],
   "source": [
    "from __future__ import print_function\n",
    "import cmlapi\n",
    "from cmlapi.rest import ApiException\n",
    "from pprint import pprint\n",
    "import json, secrets, os, time\n",
    "import mlflow\n",
    "import datetime"
   ]
  },
  {
   "cell_type": "code",
   "execution_count": 10,
   "id": "80f1bbcc-e500-470c-901b-9116de6bb982",
   "metadata": {
    "tags": []
   },
   "outputs": [],
   "source": [
    "class ModelDeployment():\n",
    "    \"\"\"\n",
    "    Class to manage the model deployment of the xgboost model\n",
    "    \"\"\"\n",
    "\n",
    "    def __init__(self, client, projectId, username):\n",
    "        self.client = cmlapi.default_client()\n",
    "        self.projectId = projectId\n",
    "        self.username = username\n",
    "\n",
    "\n",
    "    def createPRDProject(self, name, git_url):\n",
    "        \"\"\"\n",
    "        Method to create a PRD Project\n",
    "        \"\"\"\n",
    "\n",
    "        createProjRequest = {\"name\": name, \"template\": \"git\", \"git_url\": git_url}\n",
    "\n",
    "        try:\n",
    "            # Create a new project\n",
    "            api_response = self.client.create_project(createProjRequest)\n",
    "            pprint(api_response)\n",
    "        except ApiException as e:\n",
    "            print(\"Exception when calling CMLServiceApi->create_project: %s\\n\" % e)\n",
    "\n",
    "        return api_response\n",
    "\n",
    "\n",
    "    def validatePRDProject(self, username):\n",
    "        \"\"\"\n",
    "        Method to test successful project creation\n",
    "        \"\"\"\n",
    "\n",
    "        try:\n",
    "            # Return all projects, optionally filtered, sorted, and paginated.\n",
    "            search_filter = {\"owner.username\" : username}\n",
    "            search = json.dumps(search_filter)\n",
    "            api_response = self.client.list_projects(search_filter=search)\n",
    "            #pprint(api_response)\n",
    "        except ApiException as e:\n",
    "            print(\"Exception when calling CMLServiceApi->list_projects: %s\\n\" % e)\n",
    "\n",
    "        return api_response\n",
    "\n",
    "\n",
    "    def createModel(self, projectId, modelName, description = \"My Model\"):\n",
    "        \"\"\"\n",
    "        Method to create a model\n",
    "        \"\"\"\n",
    "\n",
    "        CreateModelRequest = {\n",
    "                                \"project_id\": projectId,\n",
    "                                \"name\" : modelName,\n",
    "                                \"description\": description,\n",
    "                                \"disable_authentication\": True\n",
    "                             }\n",
    "\n",
    "        try:\n",
    "            # Create a model.\n",
    "            api_response = self.client.create_model(CreateModelRequest, projectId)\n",
    "            pprint(api_response)\n",
    "        except ApiException as e:\n",
    "            print(\"Exception when calling CMLServiceApi->create_model: %s\\n\" % e)\n",
    "\n",
    "        return api_response\n",
    "\n",
    "\n",
    "    def listProjects(self, projName):\n",
    "        \"\"\"\n",
    "        List all workspace projects for provided user\n",
    "        \"\"\"\n",
    "        \n",
    "        search_filter = {\"owner.username\": self.username, \"name\":projName}\n",
    "        search = json.dumps(search_filter)\n",
    "        \n",
    "        # str | Search filter is an optional HTTP parameter to filter results by. \n",
    "        #Supported search filter keys are: [creator.email creator.name creator.username description name owner.email owner.name owner.username]. \n",
    "        #For example:   search_filter={\\\"name\\\":\\\"foo\\\",\\\"creator.name\\\":\\\"bar\\\"},. (optional)\n",
    "\n",
    "        try:\n",
    "            # Return all projects, optionally filtered, sorted, and paginated.\n",
    "            api_response = self.client.list_projects(search_filter=search)\n",
    "            #pprint(api_response)\n",
    "        except ApiException as e:\n",
    "            print(\"Exception when calling CMLServiceApi->list_projects: %s\\n\" % e)\n",
    "\n",
    "        return api_response\n",
    "\n",
    "\n",
    "    def listRuntimes(self):\n",
    "        \"\"\"\n",
    "        Method to list available runtimes\n",
    "        \"\"\"\n",
    "        search_filter = {\"kernel\": \"Python 3.10\", \"edition\": \"Standard\", \"full_version\": \"2023.12.1-b8\"} \n",
    "        # str | Search filter is an optional HTTP parameter to filter results by. \n",
    "        # Supported search filter keys are: [\\\"image_identifier\\\", \\\"editor\\\", \\\"kernel\\\", \\\"edition\\\", \\\"description\\\", \\\"full_version\\\"]. \n",
    "        # For example:   search_filter = {\\\"kernel\\\":\\\"Python 3.7\\\",\\\"editor\\\":\\\"JupyterLab\\\"},. (optional)\n",
    "        search = json.dumps(search_filter)\n",
    "        try:\n",
    "            # List the available runtimes, optionally filtered, sorted, and paginated.\n",
    "            api_response = self.client.list_runtimes(search_filter=search)\n",
    "            #pprint(api_response)\n",
    "        except ApiException as e:\n",
    "            print(\"Exception when calling CMLServiceApi->list_runtimes: %s\\n\" % e)\n",
    "\n",
    "        return api_response\n",
    "\n",
    "\n",
    "    def createModelBuild(self, projectId, filePath, runtimeId, functionName, modelCreationId):\n",
    "        \"\"\"\n",
    "        Method to create a Model build\n",
    "        \"\"\"\n",
    "\n",
    "        # Create Model Build\n",
    "        CreateModelBuildRequest = {\n",
    "                                    \"runtime_identifier\": runtimeId,\n",
    "                                    \"model_id\": modelCreationId,\n",
    "                                    \"file_path\": filePath,\n",
    "                                    \"function_name\": functionName\n",
    "                                  }\n",
    "\n",
    "        try:\n",
    "            # Create a model build.\n",
    "            api_response = self.client.create_model_build(CreateModelBuildRequest, projectId, modelCreationId)\n",
    "            pprint(api_response)\n",
    "        except ApiException as e:\n",
    "            print(\"Exception when calling CMLServiceApi->create_model_build: %s\\n\" % e)\n",
    "\n",
    "        return api_response\n",
    "\n",
    "\n",
    "    def createModelDeployment(self, modelBuildId, projectId, modelCreationId):\n",
    "        \"\"\"\n",
    "        Method to deploy a model build\n",
    "        \"\"\"\n",
    "\n",
    "        CreateModelDeploymentRequest = {\n",
    "          \"build_id\" : modelBuildId,\n",
    "          \"model_id\" : modelCreationId,\n",
    "          \"project_id\" : projectId,\n",
    "          \"cpu\" : 2.00,\n",
    "          \"memory\" : 4.00,\n",
    "          \"replicas\" : 1,\n",
    "          \"nvidia_gpus\" : 0\n",
    "        }\n",
    "\n",
    "        try:\n",
    "            # Create a model deployment.\n",
    "            api_response = self.client.create_model_deployment(CreateModelDeploymentRequest, projectId, modelCreationId, modelBuildId)\n",
    "            #pprint(api_response)\n",
    "        except ApiException as e:\n",
    "            print(\"Exception when calling CMLServiceApi->create_model_deployment: %s\\n\" % e)\n",
    "\n",
    "        return api_response"
   ]
  },
  {
   "cell_type": "code",
   "execution_count": 11,
   "id": "7e3d15dd-a03c-4521-8225-4142ca362ffe",
   "metadata": {
    "tags": []
   },
   "outputs": [],
   "source": [
    "devProjectId = os.environ['CDSW_PROJECT_ID']\n",
    "username = os.environ[\"PROJECT_OWNER\"]\n",
    "today = datetime.date.today()"
   ]
  },
  {
   "cell_type": "code",
   "execution_count": 12,
   "id": "3fd25e11-7f1b-4ca8-850f-b1dc0c91272d",
   "metadata": {
    "tags": []
   },
   "outputs": [],
   "source": [
    "client = cmlapi.default_client()\n",
    "deployment = ModelDeployment(client, devProjectId, username)"
   ]
  },
  {
   "cell_type": "code",
   "execution_count": 13,
   "id": "314f8547-3e4d-4981-bd6e-2d4d8eb7c0f0",
   "metadata": {
    "tags": []
   },
   "outputs": [
    {
     "data": {
      "text/plain": [
       "{'next_page_token': '',\n",
       " 'projects': [{'created_at': datetime.datetime(2024, 3, 14, 17, 29, 23, 54931, tzinfo=tzlocal()),\n",
       "               'creation_status': 'success',\n",
       "               'creator': {'email': 'pauldefusco@cloudera.com',\n",
       "                           'name': 'Paul de Fusco',\n",
       "                           'username': 'pauldefusco'},\n",
       "               'default_engine_type': 'ml_runtime',\n",
       "               'description': '',\n",
       "               'environment': '{\"PROJECT_OWNER\":\"pauldefusco\"}',\n",
       "               'ephemeral_storage_limit': 10,\n",
       "               'ephemeral_storage_request': 0,\n",
       "               'id': 'xp4v-wuky-ev2t-h29c',\n",
       "               'name': 'CML MLOps Logistics PRD - pauldefusco',\n",
       "               'owner': {'email': 'pauldefusco@cloudera.com',\n",
       "                         'name': 'Paul de Fusco',\n",
       "                         'username': 'pauldefusco'},\n",
       "               'permissions': {'admin': True,\n",
       "                               'business_user': True,\n",
       "                               'inherit': False,\n",
       "                               'operator': True,\n",
       "                               'read': True,\n",
       "                               'write': True},\n",
       "               'shared_memory_limit': 0,\n",
       "               'updated_at': datetime.datetime(2024, 3, 14, 17, 29, 24, 484767, tzinfo=tzlocal()),\n",
       "               'visibility': 'private'}]}"
      ]
     },
     "execution_count": 13,
     "metadata": {},
     "output_type": "execute_result"
    }
   ],
   "source": [
    "prdProjName = \"CML MLOps Logistics PRD - {}\".format(username)\n",
    "deployment.listProjects(prdProjName)"
   ]
  },
  {
   "cell_type": "code",
   "execution_count": 15,
   "id": "dc549d1f-317b-4ef2-a7b3-dade1443bc82",
   "metadata": {
    "tags": []
   },
   "outputs": [
    {
     "name": "stdout",
     "output_type": "stream",
     "text": [
      "{'access_key': 'mhm8hr5xarp6fxi1oxgjmamdmjgkidpc',\n",
      " 'auth_enabled': True,\n",
      " 'created_at': datetime.datetime(2024, 3, 14, 18, 18, 56, 111313, tzinfo=tzlocal()),\n",
      " 'creator': {'email': 'pauldefusco@cloudera.com',\n",
      "             'name': 'Paul de Fusco',\n",
      "             'username': 'pauldefusco'},\n",
      " 'crn': 'crn:cdp:ml:us-west-1:558bc1d2-8867-4357-8524-311d51259233:workspace:bd61922c-30aa-46e4-aff7-6e2d3b64aa30/d617983d-5793-4148-ae10-1a8755252ff5',\n",
      " 'default_replication_policy': {'num_replicas': '0', 'type': ''},\n",
      " 'default_resources': {'cpu_millicores': '0',\n",
      "                       'memory_mb': '0',\n",
      "                       'nvidia_gpus': '0'},\n",
      " 'deletion_status': '',\n",
      " 'description': 'My Model',\n",
      " 'id': 'd617983d-5793-4148-ae10-1a8755252ff5',\n",
      " 'name': 'MultiDimMotif-pauldefusco-2024-03-14',\n",
      " 'project': {'default_project_engine': '',\n",
      "             'name': '',\n",
      "             'public_identifier': '',\n",
      "             'slug': ''},\n",
      " 'registered_model_id': '',\n",
      " 'run_as': 0,\n",
      " 'updated_at': datetime.datetime(2024, 3, 14, 18, 18, 56, 111313, tzinfo=tzlocal()),\n",
      " 'visibility': 'private'}\n"
     ]
    }
   ],
   "source": [
    "prdProjId = 'xp4v-wuky-ev2t-h29c'\n",
    "modelName = \"MultiDimMotif-\" + username + \"-\" + str(today)\n",
    "createModelResponse = deployment.createModel(prdProjId, modelName)"
   ]
  },
  {
   "cell_type": "code",
   "execution_count": 16,
   "id": "5b4d0b5e-4fa9-4083-af3b-80613ddb486f",
   "metadata": {
    "tags": []
   },
   "outputs": [
    {
     "name": "stdout",
     "output_type": "stream",
     "text": [
      "{'built_at': datetime.datetime(1, 1, 1, 0, 0, tzinfo=tzlocal()),\n",
      " 'comment': '',\n",
      " 'created_at': datetime.datetime(2024, 3, 14, 18, 22, 57, 839809, tzinfo=tzlocal()),\n",
      " 'creator': {'email': 'pauldefusco@cloudera.com',\n",
      "             'name': 'Paul de Fusco',\n",
      "             'username': 'pauldefusco'},\n",
      " 'crn': 'crn:cdp:ml:us-west-1:558bc1d2-8867-4357-8524-311d51259233:workspace:bd61922c-30aa-46e4-aff7-6e2d3b64aa30/11e40ae2-5044-4b20-b999-4a99d5c4735e',\n",
      " 'deletion_status': '',\n",
      " 'engine_image': '',\n",
      " 'file_path': 'tsMultidimServe.py',\n",
      " 'function_name': 'multiDimMotif',\n",
      " 'id': '11e40ae2-5044-4b20-b999-4a99d5c4735e',\n",
      " 'kernel': 'Python 3.10',\n",
      " 'model_id': 'd617983d-5793-4148-ae10-1a8755252ff5',\n",
      " 'registered_model_version_id': '',\n",
      " 'runtime_addon_identifiers': ['hadoop-cli-7.2.17-hf100'],\n",
      " 'runtime_identifier': 'docker.repository.cloudera.com/cloudera/cdsw/ml-runtime-jupyterlab-python3.10-standard:2023.12.1-b8',\n",
      " 'status': 'pending',\n",
      " 'updated_at': datetime.datetime(2024, 3, 14, 18, 22, 58, 868888, tzinfo=tzlocal())}\n"
     ]
    }
   ],
   "source": [
    "modelCreationId = createModelResponse.id\n",
    "filePath = \"tsMultidimServe.py\"\n",
    "runtimeId = \"docker.repository.cloudera.com/cloudera/cdsw/ml-runtime-jupyterlab-python3.10-standard:2023.12.1-b8\"\n",
    "functionName = \"multiDimMotif\"\n",
    "createModelBuildResponse = deployment.createModelBuild(projectId=prdProjId, \\\n",
    "                                                        filePath=filePath, \\\n",
    "                                                        runtimeId=runtimeId, \\\n",
    "                                                        functionName=functionName, \\\n",
    "                                                        modelCreationId=modelCreationId)"
   ]
  },
  {
   "cell_type": "code",
   "execution_count": 17,
   "id": "2264015b-76ba-48e9-a4f0-2dfe0c40a12b",
   "metadata": {
    "tags": []
   },
   "outputs": [
    {
     "data": {
      "text/plain": [
       "{'build_id': '11e40ae2-5044-4b20-b999-4a99d5c4735e',\n",
       " 'cpu': 2.0,\n",
       " 'created_at': datetime.datetime(2024, 3, 14, 18, 25, 36, 360931, tzinfo=tzlocal()),\n",
       " 'crn': 'crn:cdp:ml:us-west-1:558bc1d2-8867-4357-8524-311d51259233:workspace:bd61922c-30aa-46e4-aff7-6e2d3b64aa30/cada1028-349b-4e8f-bba7-f0728f63be69',\n",
       " 'deployer': {'email': 'pauldefusco@cloudera.com',\n",
       "              'name': 'Paul de Fusco',\n",
       "              'username': 'pauldefusco'},\n",
       " 'environment': '{}',\n",
       " 'id': 'cada1028-349b-4e8f-bba7-f0728f63be69',\n",
       " 'memory': 4.0,\n",
       " 'model_id': 'd617983d-5793-4148-ae10-1a8755252ff5',\n",
       " 'nvidia_gpu': 0,\n",
       " 'project_id': 'xp4v-wuky-ev2t-h29c',\n",
       " 'replicas': 1,\n",
       " 'status': 'deploying',\n",
       " 'stopped_at': datetime.datetime(1, 1, 1, 0, 0, tzinfo=tzlocal()),\n",
       " 'updated_at': datetime.datetime(2024, 3, 14, 18, 25, 37, 271220, tzinfo=tzlocal())}"
      ]
     },
     "execution_count": 17,
     "metadata": {},
     "output_type": "execute_result"
    }
   ],
   "source": [
    "modelBuildId = createModelBuildResponse.id\n",
    "deployment.createModelDeployment(modelBuildId, prdProjId, modelCreationId)"
   ]
  },
  {
   "cell_type": "code",
   "execution_count": 12,
   "id": "e202fcab-31d1-4765-a14f-bed472a3d14f",
   "metadata": {
    "tags": []
   },
   "outputs": [],
   "source": [
    "## NOW NAVIGATE TO THE PRD PROJECT AND TRY A REQUEST WITH THIS PAYLOAD!\n",
    "\n",
    "#{\"pattern\": [54,53,52,51]}"
   ]
  },
  {
   "cell_type": "code",
   "execution_count": null,
   "id": "bdaf39b8-0eca-4972-91cd-bcb7d1123464",
   "metadata": {},
   "outputs": [],
   "source": []
  }
 ],
 "metadata": {
  "kernelspec": {
   "display_name": "Python 3 (ipykernel)",
   "language": "python",
   "name": "python3"
  },
  "language_info": {
   "codemirror_mode": {
    "name": "ipython",
    "version": 3
   },
   "file_extension": ".py",
   "mimetype": "text/x-python",
   "name": "python",
   "nbconvert_exporter": "python",
   "pygments_lexer": "ipython3",
   "version": "3.9.18"
  }
 },
 "nbformat": 4,
 "nbformat_minor": 5
}
